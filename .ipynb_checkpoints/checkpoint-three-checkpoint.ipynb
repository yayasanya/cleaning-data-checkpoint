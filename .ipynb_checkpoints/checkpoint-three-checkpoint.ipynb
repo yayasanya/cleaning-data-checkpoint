{
 "cells": [
  {
   "cell_type": "markdown",
   "metadata": {
    "azdata_cell_guid": "26037d32-2047-4157-81ef-595916bd66a0"
   },
   "source": [
    "# Checkpoint Three: Cleaning Data\n",
    "\n",
    "Now you are ready to clean your data. Before starting coding, provide the link to your dataset below.\n",
    "\n",
    "My dataset: https://www.kaggle.com/datasets/veeralakrishna/froth-flotation/data\n",
    "\n",
    "\n",
    "Import the necessary libraries and create your dataframe(s)."
   ]
  },
  {
   "cell_type": "markdown",
   "metadata": {},
   "source": [
    "There are 2 files I will be working with: feed.csv and flotation.csv. I will clean data before joining 2 files into one df. There are also constraints to the process outlined below. Data will be cleaned according to the constraints."
   ]
  },
  {
   "cell_type": "markdown",
   "metadata": {},
   "source": [
    "Constraint condition                       Bound Value\n",
    "--------------------------------------------------------\n",
    "Minimum sum of airflow for all columns        1490\n",
    "Min starch and Amina flow combined            1000\n",
    "Airflow bound                               (220,350)\n",
    "Level Bound                                 (150,750)\n",
    "Amina Bound                                 (250,700)\n",
    "Pulp Flow bound                             (370,415)\n",
    "pH bound                                    (8.75,10.8)\n",
    "Density Bound                               (1.5,1.85)"
   ]
  },
  {
   "cell_type": "code",
   "execution_count": 1,
   "metadata": {
    "azdata_cell_guid": "e8adef8e-d0f2-4640-a179-5997f11e82ca"
   },
   "outputs": [],
   "source": [
    "import pandas as pd\n",
    "import matplotlib.pyplot as plt\n",
    "import seaborn as sns"
   ]
  },
  {
   "cell_type": "code",
   "execution_count": 2,
   "metadata": {},
   "outputs": [
    {
     "data": {
      "text/html": [
       "<div>\n",
       "<style scoped>\n",
       "    .dataframe tbody tr th:only-of-type {\n",
       "        vertical-align: middle;\n",
       "    }\n",
       "\n",
       "    .dataframe tbody tr th {\n",
       "        vertical-align: top;\n",
       "    }\n",
       "\n",
       "    .dataframe thead th {\n",
       "        text-align: right;\n",
       "    }\n",
       "</style>\n",
       "<table border=\"1\" class=\"dataframe\">\n",
       "  <thead>\n",
       "    <tr style=\"text-align: right;\">\n",
       "      <th></th>\n",
       "      <th>Unnamed: 0</th>\n",
       "      <th>X1</th>\n",
       "      <th>date</th>\n",
       "      <th>% Iron Feed</th>\n",
       "      <th>% Silica Feed</th>\n",
       "      <th>Starch Flow</th>\n",
       "      <th>Amina Flow</th>\n",
       "      <th>Ore Pulp Flow</th>\n",
       "      <th>Ore Pulp pH</th>\n",
       "      <th>Ore Pulp Density</th>\n",
       "      <th>% Iron Concentrate</th>\n",
       "      <th>% Silica Concentrate</th>\n",
       "    </tr>\n",
       "  </thead>\n",
       "  <tbody>\n",
       "    <tr>\n",
       "      <th>0</th>\n",
       "      <td>1</td>\n",
       "      <td>0.0</td>\n",
       "      <td>2017-03-10 01:02:00</td>\n",
       "      <td>55.2</td>\n",
       "      <td>16.98</td>\n",
       "      <td>3019.53</td>\n",
       "      <td>557.434</td>\n",
       "      <td>395.713</td>\n",
       "      <td>10.0664</td>\n",
       "      <td>1.74</td>\n",
       "      <td>66.493242</td>\n",
       "      <td>1.31</td>\n",
       "    </tr>\n",
       "    <tr>\n",
       "      <th>1</th>\n",
       "      <td>2</td>\n",
       "      <td>1.0</td>\n",
       "      <td>2017-03-10 01:02:20</td>\n",
       "      <td>55.2</td>\n",
       "      <td>16.98</td>\n",
       "      <td>3024.41</td>\n",
       "      <td>563.965</td>\n",
       "      <td>397.383</td>\n",
       "      <td>10.0672</td>\n",
       "      <td>1.74</td>\n",
       "      <td>66.853733</td>\n",
       "      <td>1.31</td>\n",
       "    </tr>\n",
       "    <tr>\n",
       "      <th>2</th>\n",
       "      <td>3</td>\n",
       "      <td>2.0</td>\n",
       "      <td>2017-03-10 01:02:40</td>\n",
       "      <td>55.2</td>\n",
       "      <td>16.98</td>\n",
       "      <td>3043.46</td>\n",
       "      <td>568.054</td>\n",
       "      <td>399.668</td>\n",
       "      <td>10.0680</td>\n",
       "      <td>1.74</td>\n",
       "      <td>64.773804</td>\n",
       "      <td>1.31</td>\n",
       "    </tr>\n",
       "    <tr>\n",
       "      <th>3</th>\n",
       "      <td>4</td>\n",
       "      <td>3.0</td>\n",
       "      <td>2017-03-10 01:03:00</td>\n",
       "      <td>55.2</td>\n",
       "      <td>16.98</td>\n",
       "      <td>3047.36</td>\n",
       "      <td>568.665</td>\n",
       "      <td>397.939</td>\n",
       "      <td>10.0689</td>\n",
       "      <td>1.74</td>\n",
       "      <td>68.550271</td>\n",
       "      <td>1.31</td>\n",
       "    </tr>\n",
       "    <tr>\n",
       "      <th>4</th>\n",
       "      <td>5</td>\n",
       "      <td>4.0</td>\n",
       "      <td>2017-03-10 01:03:20</td>\n",
       "      <td>55.2</td>\n",
       "      <td>16.98</td>\n",
       "      <td>3033.69</td>\n",
       "      <td>558.167</td>\n",
       "      <td>400.254</td>\n",
       "      <td>10.0697</td>\n",
       "      <td>1.74</td>\n",
       "      <td>65.116564</td>\n",
       "      <td>1.31</td>\n",
       "    </tr>\n",
       "  </tbody>\n",
       "</table>\n",
       "</div>"
      ],
      "text/plain": [
       "   Unnamed: 0   X1                 date  % Iron Feed  % Silica Feed  \\\n",
       "0           1  0.0  2017-03-10 01:02:00         55.2          16.98   \n",
       "1           2  1.0  2017-03-10 01:02:20         55.2          16.98   \n",
       "2           3  2.0  2017-03-10 01:02:40         55.2          16.98   \n",
       "3           4  3.0  2017-03-10 01:03:00         55.2          16.98   \n",
       "4           5  4.0  2017-03-10 01:03:20         55.2          16.98   \n",
       "\n",
       "   Starch Flow  Amina Flow  Ore Pulp Flow  Ore Pulp pH  Ore Pulp Density  \\\n",
       "0      3019.53     557.434        395.713      10.0664              1.74   \n",
       "1      3024.41     563.965        397.383      10.0672              1.74   \n",
       "2      3043.46     568.054        399.668      10.0680              1.74   \n",
       "3      3047.36     568.665        397.939      10.0689              1.74   \n",
       "4      3033.69     558.167        400.254      10.0697              1.74   \n",
       "\n",
       "   % Iron Concentrate  % Silica Concentrate  \n",
       "0           66.493242                  1.31  \n",
       "1           66.853733                  1.31  \n",
       "2           64.773804                  1.31  \n",
       "3           68.550271                  1.31  \n",
       "4           65.116564                  1.31  "
      ]
     },
     "execution_count": 2,
     "metadata": {},
     "output_type": "execute_result"
    }
   ],
   "source": [
    "df_feed=pd.read_csv(\"feed.csv\")\n",
    "df_feed.head()\n"
   ]
  },
  {
   "cell_type": "code",
   "execution_count": 3,
   "metadata": {},
   "outputs": [],
   "source": [
    "#I will reduce records down to every hour. \n",
    "#Record at index(0) starts at 01:02:00, next hour will be at index(180) at 02:02:00 etc.\n",
    "#I will remove all records that have remainders not equal to 0 when index divided by 180.\n",
    "\n",
    "df_feed.drop(df_feed[df_feed.index%180!=0].index, inplace=True)"
   ]
  },
  {
   "cell_type": "code",
   "execution_count": 4,
   "metadata": {},
   "outputs": [
    {
     "data": {
      "text/html": [
       "<div>\n",
       "<style scoped>\n",
       "    .dataframe tbody tr th:only-of-type {\n",
       "        vertical-align: middle;\n",
       "    }\n",
       "\n",
       "    .dataframe tbody tr th {\n",
       "        vertical-align: top;\n",
       "    }\n",
       "\n",
       "    .dataframe thead th {\n",
       "        text-align: right;\n",
       "    }\n",
       "</style>\n",
       "<table border=\"1\" class=\"dataframe\">\n",
       "  <thead>\n",
       "    <tr style=\"text-align: right;\">\n",
       "      <th></th>\n",
       "      <th>Unnamed: 0</th>\n",
       "      <th>X1</th>\n",
       "      <th>date</th>\n",
       "      <th>% Iron Feed</th>\n",
       "      <th>% Silica Feed</th>\n",
       "      <th>Starch Flow</th>\n",
       "      <th>Amina Flow</th>\n",
       "      <th>Ore Pulp Flow</th>\n",
       "      <th>Ore Pulp pH</th>\n",
       "      <th>Ore Pulp Density</th>\n",
       "      <th>% Iron Concentrate</th>\n",
       "      <th>% Silica Concentrate</th>\n",
       "    </tr>\n",
       "  </thead>\n",
       "  <tbody>\n",
       "    <tr>\n",
       "      <th>0</th>\n",
       "      <td>1</td>\n",
       "      <td>0.0</td>\n",
       "      <td>2017-03-10 01:02:00</td>\n",
       "      <td>55.2</td>\n",
       "      <td>16.98</td>\n",
       "      <td>3019.53</td>\n",
       "      <td>557.434</td>\n",
       "      <td>395.713</td>\n",
       "      <td>10.06640</td>\n",
       "      <td>1.74000</td>\n",
       "      <td>66.493242</td>\n",
       "      <td>1.31</td>\n",
       "    </tr>\n",
       "    <tr>\n",
       "      <th>180</th>\n",
       "      <td>181</td>\n",
       "      <td>180.0</td>\n",
       "      <td>2017-03-10 02:02:00</td>\n",
       "      <td>55.2</td>\n",
       "      <td>16.98</td>\n",
       "      <td>3205.08</td>\n",
       "      <td>535.553</td>\n",
       "      <td>398.086</td>\n",
       "      <td>10.15540</td>\n",
       "      <td>1.66291</td>\n",
       "      <td>68.395566</td>\n",
       "      <td>1.11</td>\n",
       "    </tr>\n",
       "    <tr>\n",
       "      <th>360</th>\n",
       "      <td>361</td>\n",
       "      <td>360.0</td>\n",
       "      <td>2017-03-10 03:02:00</td>\n",
       "      <td>55.2</td>\n",
       "      <td>16.98</td>\n",
       "      <td>3391.21</td>\n",
       "      <td>584.900</td>\n",
       "      <td>401.016</td>\n",
       "      <td>10.08240</td>\n",
       "      <td>1.70771</td>\n",
       "      <td>68.218450</td>\n",
       "      <td>1.27</td>\n",
       "    </tr>\n",
       "    <tr>\n",
       "      <th>540</th>\n",
       "      <td>541</td>\n",
       "      <td>540.0</td>\n",
       "      <td>2017-03-10 04:02:00</td>\n",
       "      <td>55.2</td>\n",
       "      <td>16.98</td>\n",
       "      <td>3120.31</td>\n",
       "      <td>577.850</td>\n",
       "      <td>407.344</td>\n",
       "      <td>9.94174</td>\n",
       "      <td>1.72059</td>\n",
       "      <td>64.230421</td>\n",
       "      <td>1.36</td>\n",
       "    </tr>\n",
       "    <tr>\n",
       "      <th>720</th>\n",
       "      <td>721</td>\n",
       "      <td>720.0</td>\n",
       "      <td>2017-03-10 05:02:00</td>\n",
       "      <td>55.2</td>\n",
       "      <td>16.98</td>\n",
       "      <td>3267.58</td>\n",
       "      <td>608.459</td>\n",
       "      <td>394.658</td>\n",
       "      <td>9.84297</td>\n",
       "      <td>1.76000</td>\n",
       "      <td>66.938356</td>\n",
       "      <td>1.34</td>\n",
       "    </tr>\n",
       "  </tbody>\n",
       "</table>\n",
       "</div>"
      ],
      "text/plain": [
       "     Unnamed: 0     X1                 date  % Iron Feed  % Silica Feed  \\\n",
       "0             1    0.0  2017-03-10 01:02:00         55.2          16.98   \n",
       "180         181  180.0  2017-03-10 02:02:00         55.2          16.98   \n",
       "360         361  360.0  2017-03-10 03:02:00         55.2          16.98   \n",
       "540         541  540.0  2017-03-10 04:02:00         55.2          16.98   \n",
       "720         721  720.0  2017-03-10 05:02:00         55.2          16.98   \n",
       "\n",
       "     Starch Flow  Amina Flow  Ore Pulp Flow  Ore Pulp pH  Ore Pulp Density  \\\n",
       "0        3019.53     557.434        395.713     10.06640           1.74000   \n",
       "180      3205.08     535.553        398.086     10.15540           1.66291   \n",
       "360      3391.21     584.900        401.016     10.08240           1.70771   \n",
       "540      3120.31     577.850        407.344      9.94174           1.72059   \n",
       "720      3267.58     608.459        394.658      9.84297           1.76000   \n",
       "\n",
       "     % Iron Concentrate  % Silica Concentrate  \n",
       "0             66.493242                  1.31  \n",
       "180           68.395566                  1.11  \n",
       "360           68.218450                  1.27  \n",
       "540           64.230421                  1.36  \n",
       "720           66.938356                  1.34  "
      ]
     },
     "execution_count": 4,
     "metadata": {},
     "output_type": "execute_result"
    }
   ],
   "source": [
    "df_feed.head()"
   ]
  },
  {
   "cell_type": "code",
   "execution_count": 5,
   "metadata": {},
   "outputs": [
    {
     "data": {
      "text/plain": [
       "(3278, 12)"
      ]
     },
     "execution_count": 5,
     "metadata": {},
     "output_type": "execute_result"
    }
   ],
   "source": [
    "df_feed.shape"
   ]
  },
  {
   "cell_type": "markdown",
   "metadata": {},
   "source": [
    "I will do the same for flotation.csv file before merging 2 dfs together"
   ]
  },
  {
   "cell_type": "code",
   "execution_count": 6,
   "metadata": {},
   "outputs": [
    {
     "data": {
      "text/html": [
       "<div>\n",
       "<style scoped>\n",
       "    .dataframe tbody tr th:only-of-type {\n",
       "        vertical-align: middle;\n",
       "    }\n",
       "\n",
       "    .dataframe tbody tr th {\n",
       "        vertical-align: top;\n",
       "    }\n",
       "\n",
       "    .dataframe thead th {\n",
       "        text-align: right;\n",
       "    }\n",
       "</style>\n",
       "<table border=\"1\" class=\"dataframe\">\n",
       "  <thead>\n",
       "    <tr style=\"text-align: right;\">\n",
       "      <th></th>\n",
       "      <th>Unnamed: 0</th>\n",
       "      <th>X1</th>\n",
       "      <th>date</th>\n",
       "      <th>Flotation Column 01 Air Flow</th>\n",
       "      <th>Flotation Column 02 Air Flow</th>\n",
       "      <th>Flotation Column 03 Air Flow</th>\n",
       "      <th>Flotation Column 04 Air Flow</th>\n",
       "      <th>Flotation Column 05 Air Flow</th>\n",
       "      <th>Flotation Column 06 Air Flow</th>\n",
       "      <th>Flotation Column 07 Air Flow</th>\n",
       "      <th>Flotation Column 01 Level</th>\n",
       "      <th>Flotation Column 02 Level</th>\n",
       "      <th>Flotation Column 03 Level</th>\n",
       "      <th>Flotation Column 04 Level</th>\n",
       "      <th>Flotation Column 05 Level</th>\n",
       "      <th>Flotation Column 06 Level</th>\n",
       "      <th>Flotation Column 07 Level</th>\n",
       "    </tr>\n",
       "  </thead>\n",
       "  <tbody>\n",
       "    <tr>\n",
       "      <th>0</th>\n",
       "      <td>1</td>\n",
       "      <td>0.0</td>\n",
       "      <td>2017-03-10 01:02:00</td>\n",
       "      <td>249.214</td>\n",
       "      <td>253.235</td>\n",
       "      <td>250.576</td>\n",
       "      <td>295.096</td>\n",
       "      <td>306.4</td>\n",
       "      <td>250.225</td>\n",
       "      <td>250.884</td>\n",
       "      <td>457.396</td>\n",
       "      <td>432.962</td>\n",
       "      <td>424.954</td>\n",
       "      <td>443.558</td>\n",
       "      <td>502.255</td>\n",
       "      <td>446.370</td>\n",
       "      <td>523.344</td>\n",
       "    </tr>\n",
       "    <tr>\n",
       "      <th>1</th>\n",
       "      <td>2</td>\n",
       "      <td>1.0</td>\n",
       "      <td>2017-03-10 01:02:20</td>\n",
       "      <td>249.719</td>\n",
       "      <td>250.532</td>\n",
       "      <td>250.862</td>\n",
       "      <td>295.096</td>\n",
       "      <td>306.4</td>\n",
       "      <td>250.137</td>\n",
       "      <td>248.994</td>\n",
       "      <td>451.891</td>\n",
       "      <td>429.560</td>\n",
       "      <td>432.939</td>\n",
       "      <td>448.086</td>\n",
       "      <td>496.363</td>\n",
       "      <td>445.922</td>\n",
       "      <td>498.075</td>\n",
       "    </tr>\n",
       "    <tr>\n",
       "      <th>2</th>\n",
       "      <td>3</td>\n",
       "      <td>2.0</td>\n",
       "      <td>2017-03-10 01:02:40</td>\n",
       "      <td>249.741</td>\n",
       "      <td>247.874</td>\n",
       "      <td>250.313</td>\n",
       "      <td>295.096</td>\n",
       "      <td>306.4</td>\n",
       "      <td>251.345</td>\n",
       "      <td>248.071</td>\n",
       "      <td>451.240</td>\n",
       "      <td>468.927</td>\n",
       "      <td>434.610</td>\n",
       "      <td>449.688</td>\n",
       "      <td>484.411</td>\n",
       "      <td>447.826</td>\n",
       "      <td>458.567</td>\n",
       "    </tr>\n",
       "    <tr>\n",
       "      <th>3</th>\n",
       "      <td>4</td>\n",
       "      <td>3.0</td>\n",
       "      <td>2017-03-10 01:03:00</td>\n",
       "      <td>249.917</td>\n",
       "      <td>254.487</td>\n",
       "      <td>250.049</td>\n",
       "      <td>295.096</td>\n",
       "      <td>306.4</td>\n",
       "      <td>250.422</td>\n",
       "      <td>251.147</td>\n",
       "      <td>452.441</td>\n",
       "      <td>458.165</td>\n",
       "      <td>442.865</td>\n",
       "      <td>446.210</td>\n",
       "      <td>471.411</td>\n",
       "      <td>437.690</td>\n",
       "      <td>427.669</td>\n",
       "    </tr>\n",
       "    <tr>\n",
       "      <th>4</th>\n",
       "      <td>5</td>\n",
       "      <td>4.0</td>\n",
       "      <td>2017-03-10 01:03:20</td>\n",
       "      <td>250.203</td>\n",
       "      <td>252.136</td>\n",
       "      <td>249.895</td>\n",
       "      <td>295.096</td>\n",
       "      <td>306.4</td>\n",
       "      <td>249.983</td>\n",
       "      <td>248.928</td>\n",
       "      <td>452.441</td>\n",
       "      <td>452.900</td>\n",
       "      <td>450.523</td>\n",
       "      <td>453.670</td>\n",
       "      <td>462.598</td>\n",
       "      <td>443.682</td>\n",
       "      <td>425.679</td>\n",
       "    </tr>\n",
       "  </tbody>\n",
       "</table>\n",
       "</div>"
      ],
      "text/plain": [
       "   Unnamed: 0   X1                 date  Flotation Column 01 Air Flow  \\\n",
       "0           1  0.0  2017-03-10 01:02:00                       249.214   \n",
       "1           2  1.0  2017-03-10 01:02:20                       249.719   \n",
       "2           3  2.0  2017-03-10 01:02:40                       249.741   \n",
       "3           4  3.0  2017-03-10 01:03:00                       249.917   \n",
       "4           5  4.0  2017-03-10 01:03:20                       250.203   \n",
       "\n",
       "   Flotation Column 02 Air Flow  Flotation Column 03 Air Flow  \\\n",
       "0                       253.235                       250.576   \n",
       "1                       250.532                       250.862   \n",
       "2                       247.874                       250.313   \n",
       "3                       254.487                       250.049   \n",
       "4                       252.136                       249.895   \n",
       "\n",
       "   Flotation Column 04 Air Flow  Flotation Column 05 Air Flow  \\\n",
       "0                       295.096                         306.4   \n",
       "1                       295.096                         306.4   \n",
       "2                       295.096                         306.4   \n",
       "3                       295.096                         306.4   \n",
       "4                       295.096                         306.4   \n",
       "\n",
       "   Flotation Column 06 Air Flow  Flotation Column 07 Air Flow  \\\n",
       "0                       250.225                       250.884   \n",
       "1                       250.137                       248.994   \n",
       "2                       251.345                       248.071   \n",
       "3                       250.422                       251.147   \n",
       "4                       249.983                       248.928   \n",
       "\n",
       "   Flotation Column 01 Level  Flotation Column 02 Level  \\\n",
       "0                    457.396                    432.962   \n",
       "1                    451.891                    429.560   \n",
       "2                    451.240                    468.927   \n",
       "3                    452.441                    458.165   \n",
       "4                    452.441                    452.900   \n",
       "\n",
       "   Flotation Column 03 Level  Flotation Column 04 Level  \\\n",
       "0                    424.954                    443.558   \n",
       "1                    432.939                    448.086   \n",
       "2                    434.610                    449.688   \n",
       "3                    442.865                    446.210   \n",
       "4                    450.523                    453.670   \n",
       "\n",
       "   Flotation Column 05 Level  Flotation Column 06 Level  \\\n",
       "0                    502.255                    446.370   \n",
       "1                    496.363                    445.922   \n",
       "2                    484.411                    447.826   \n",
       "3                    471.411                    437.690   \n",
       "4                    462.598                    443.682   \n",
       "\n",
       "   Flotation Column 07 Level  \n",
       "0                    523.344  \n",
       "1                    498.075  \n",
       "2                    458.567  \n",
       "3                    427.669  \n",
       "4                    425.679  "
      ]
     },
     "execution_count": 6,
     "metadata": {},
     "output_type": "execute_result"
    }
   ],
   "source": [
    "df_flotation=pd.read_csv(\"flotation.csv\")\n",
    "df_flotation.head()"
   ]
  },
  {
   "cell_type": "code",
   "execution_count": 7,
   "metadata": {},
   "outputs": [
    {
     "data": {
      "text/html": [
       "<div>\n",
       "<style scoped>\n",
       "    .dataframe tbody tr th:only-of-type {\n",
       "        vertical-align: middle;\n",
       "    }\n",
       "\n",
       "    .dataframe tbody tr th {\n",
       "        vertical-align: top;\n",
       "    }\n",
       "\n",
       "    .dataframe thead th {\n",
       "        text-align: right;\n",
       "    }\n",
       "</style>\n",
       "<table border=\"1\" class=\"dataframe\">\n",
       "  <thead>\n",
       "    <tr style=\"text-align: right;\">\n",
       "      <th></th>\n",
       "      <th>Unnamed: 0</th>\n",
       "      <th>X1</th>\n",
       "      <th>date</th>\n",
       "      <th>Flotation Column 01 Air Flow</th>\n",
       "      <th>Flotation Column 02 Air Flow</th>\n",
       "      <th>Flotation Column 03 Air Flow</th>\n",
       "      <th>Flotation Column 04 Air Flow</th>\n",
       "      <th>Flotation Column 05 Air Flow</th>\n",
       "      <th>Flotation Column 06 Air Flow</th>\n",
       "      <th>Flotation Column 07 Air Flow</th>\n",
       "      <th>Flotation Column 01 Level</th>\n",
       "      <th>Flotation Column 02 Level</th>\n",
       "      <th>Flotation Column 03 Level</th>\n",
       "      <th>Flotation Column 04 Level</th>\n",
       "      <th>Flotation Column 05 Level</th>\n",
       "      <th>Flotation Column 06 Level</th>\n",
       "      <th>Flotation Column 07 Level</th>\n",
       "    </tr>\n",
       "  </thead>\n",
       "  <tbody>\n",
       "    <tr>\n",
       "      <th>0</th>\n",
       "      <td>1</td>\n",
       "      <td>0.0</td>\n",
       "      <td>2017-03-10 01:02:00</td>\n",
       "      <td>249.214</td>\n",
       "      <td>253.235</td>\n",
       "      <td>250.576</td>\n",
       "      <td>295.096</td>\n",
       "      <td>306.4</td>\n",
       "      <td>250.225</td>\n",
       "      <td>250.884</td>\n",
       "      <td>457.396</td>\n",
       "      <td>432.962</td>\n",
       "      <td>424.954</td>\n",
       "      <td>443.558</td>\n",
       "      <td>502.255</td>\n",
       "      <td>446.370</td>\n",
       "      <td>523.344</td>\n",
       "    </tr>\n",
       "    <tr>\n",
       "      <th>180</th>\n",
       "      <td>181</td>\n",
       "      <td>180.0</td>\n",
       "      <td>2017-03-10 02:02:00</td>\n",
       "      <td>249.510</td>\n",
       "      <td>251.675</td>\n",
       "      <td>251.027</td>\n",
       "      <td>295.096</td>\n",
       "      <td>306.4</td>\n",
       "      <td>250.609</td>\n",
       "      <td>250.280</td>\n",
       "      <td>445.935</td>\n",
       "      <td>456.922</td>\n",
       "      <td>432.418</td>\n",
       "      <td>449.432</td>\n",
       "      <td>445.525</td>\n",
       "      <td>479.214</td>\n",
       "      <td>456.500</td>\n",
       "    </tr>\n",
       "    <tr>\n",
       "      <th>360</th>\n",
       "      <td>361</td>\n",
       "      <td>360.0</td>\n",
       "      <td>2017-03-10 03:02:00</td>\n",
       "      <td>248.807</td>\n",
       "      <td>248.379</td>\n",
       "      <td>248.939</td>\n",
       "      <td>295.096</td>\n",
       "      <td>306.4</td>\n",
       "      <td>250.269</td>\n",
       "      <td>251.576</td>\n",
       "      <td>444.584</td>\n",
       "      <td>422.540</td>\n",
       "      <td>448.154</td>\n",
       "      <td>464.353</td>\n",
       "      <td>447.508</td>\n",
       "      <td>461.574</td>\n",
       "      <td>440.993</td>\n",
       "    </tr>\n",
       "    <tr>\n",
       "      <th>540</th>\n",
       "      <td>541</td>\n",
       "      <td>540.0</td>\n",
       "      <td>2017-03-10 04:02:00</td>\n",
       "      <td>248.533</td>\n",
       "      <td>251.246</td>\n",
       "      <td>248.511</td>\n",
       "      <td>295.096</td>\n",
       "      <td>306.4</td>\n",
       "      <td>245.808</td>\n",
       "      <td>246.654</td>\n",
       "      <td>480.819</td>\n",
       "      <td>457.199</td>\n",
       "      <td>473.910</td>\n",
       "      <td>444.686</td>\n",
       "      <td>458.362</td>\n",
       "      <td>477.702</td>\n",
       "      <td>505.303</td>\n",
       "    </tr>\n",
       "    <tr>\n",
       "      <th>720</th>\n",
       "      <td>721</td>\n",
       "      <td>720.0</td>\n",
       "      <td>2017-03-10 05:02:00</td>\n",
       "      <td>249.598</td>\n",
       "      <td>253.114</td>\n",
       "      <td>251.807</td>\n",
       "      <td>295.096</td>\n",
       "      <td>306.4</td>\n",
       "      <td>249.719</td>\n",
       "      <td>248.632</td>\n",
       "      <td>526.739</td>\n",
       "      <td>568.244</td>\n",
       "      <td>545.166</td>\n",
       "      <td>525.550</td>\n",
       "      <td>547.031</td>\n",
       "      <td>558.323</td>\n",
       "      <td>553.193</td>\n",
       "    </tr>\n",
       "  </tbody>\n",
       "</table>\n",
       "</div>"
      ],
      "text/plain": [
       "     Unnamed: 0     X1                 date  Flotation Column 01 Air Flow  \\\n",
       "0             1    0.0  2017-03-10 01:02:00                       249.214   \n",
       "180         181  180.0  2017-03-10 02:02:00                       249.510   \n",
       "360         361  360.0  2017-03-10 03:02:00                       248.807   \n",
       "540         541  540.0  2017-03-10 04:02:00                       248.533   \n",
       "720         721  720.0  2017-03-10 05:02:00                       249.598   \n",
       "\n",
       "     Flotation Column 02 Air Flow  Flotation Column 03 Air Flow  \\\n",
       "0                         253.235                       250.576   \n",
       "180                       251.675                       251.027   \n",
       "360                       248.379                       248.939   \n",
       "540                       251.246                       248.511   \n",
       "720                       253.114                       251.807   \n",
       "\n",
       "     Flotation Column 04 Air Flow  Flotation Column 05 Air Flow  \\\n",
       "0                         295.096                         306.4   \n",
       "180                       295.096                         306.4   \n",
       "360                       295.096                         306.4   \n",
       "540                       295.096                         306.4   \n",
       "720                       295.096                         306.4   \n",
       "\n",
       "     Flotation Column 06 Air Flow  Flotation Column 07 Air Flow  \\\n",
       "0                         250.225                       250.884   \n",
       "180                       250.609                       250.280   \n",
       "360                       250.269                       251.576   \n",
       "540                       245.808                       246.654   \n",
       "720                       249.719                       248.632   \n",
       "\n",
       "     Flotation Column 01 Level  Flotation Column 02 Level  \\\n",
       "0                      457.396                    432.962   \n",
       "180                    445.935                    456.922   \n",
       "360                    444.584                    422.540   \n",
       "540                    480.819                    457.199   \n",
       "720                    526.739                    568.244   \n",
       "\n",
       "     Flotation Column 03 Level  Flotation Column 04 Level  \\\n",
       "0                      424.954                    443.558   \n",
       "180                    432.418                    449.432   \n",
       "360                    448.154                    464.353   \n",
       "540                    473.910                    444.686   \n",
       "720                    545.166                    525.550   \n",
       "\n",
       "     Flotation Column 05 Level  Flotation Column 06 Level  \\\n",
       "0                      502.255                    446.370   \n",
       "180                    445.525                    479.214   \n",
       "360                    447.508                    461.574   \n",
       "540                    458.362                    477.702   \n",
       "720                    547.031                    558.323   \n",
       "\n",
       "     Flotation Column 07 Level  \n",
       "0                      523.344  \n",
       "180                    456.500  \n",
       "360                    440.993  \n",
       "540                    505.303  \n",
       "720                    553.193  "
      ]
     },
     "execution_count": 7,
     "metadata": {},
     "output_type": "execute_result"
    }
   ],
   "source": [
    "df_flotation.drop(df_flotation[df_flotation.index%180!=0].index, inplace=True)\n",
    "df_flotation.head()"
   ]
  },
  {
   "cell_type": "code",
   "execution_count": 8,
   "metadata": {},
   "outputs": [
    {
     "data": {
      "text/html": [
       "<div>\n",
       "<style scoped>\n",
       "    .dataframe tbody tr th:only-of-type {\n",
       "        vertical-align: middle;\n",
       "    }\n",
       "\n",
       "    .dataframe tbody tr th {\n",
       "        vertical-align: top;\n",
       "    }\n",
       "\n",
       "    .dataframe thead th {\n",
       "        text-align: right;\n",
       "    }\n",
       "</style>\n",
       "<table border=\"1\" class=\"dataframe\">\n",
       "  <thead>\n",
       "    <tr style=\"text-align: right;\">\n",
       "      <th></th>\n",
       "      <th>Unnamed: 0</th>\n",
       "      <th>X1</th>\n",
       "      <th>date</th>\n",
       "      <th>fc01_air_flow</th>\n",
       "      <th>fc02_air_flow</th>\n",
       "      <th>fc03_air_flow</th>\n",
       "      <th>fc04_air_flow</th>\n",
       "      <th>fc05_air_flow</th>\n",
       "      <th>fc06_air_flow</th>\n",
       "      <th>fc07_air_flow</th>\n",
       "      <th>fc01_level</th>\n",
       "      <th>fc02_level</th>\n",
       "      <th>fc03_level</th>\n",
       "      <th>fc04_level</th>\n",
       "      <th>fc05_level</th>\n",
       "      <th>fc06_level</th>\n",
       "      <th>fc07_level</th>\n",
       "    </tr>\n",
       "  </thead>\n",
       "  <tbody>\n",
       "    <tr>\n",
       "      <th>0</th>\n",
       "      <td>1</td>\n",
       "      <td>0.0</td>\n",
       "      <td>2017-03-10 01:02:00</td>\n",
       "      <td>249.214</td>\n",
       "      <td>253.235</td>\n",
       "      <td>250.576</td>\n",
       "      <td>295.096</td>\n",
       "      <td>306.4</td>\n",
       "      <td>250.225</td>\n",
       "      <td>250.884</td>\n",
       "      <td>457.396</td>\n",
       "      <td>432.962</td>\n",
       "      <td>424.954</td>\n",
       "      <td>443.558</td>\n",
       "      <td>502.255</td>\n",
       "      <td>446.370</td>\n",
       "      <td>523.344</td>\n",
       "    </tr>\n",
       "    <tr>\n",
       "      <th>180</th>\n",
       "      <td>181</td>\n",
       "      <td>180.0</td>\n",
       "      <td>2017-03-10 02:02:00</td>\n",
       "      <td>249.510</td>\n",
       "      <td>251.675</td>\n",
       "      <td>251.027</td>\n",
       "      <td>295.096</td>\n",
       "      <td>306.4</td>\n",
       "      <td>250.609</td>\n",
       "      <td>250.280</td>\n",
       "      <td>445.935</td>\n",
       "      <td>456.922</td>\n",
       "      <td>432.418</td>\n",
       "      <td>449.432</td>\n",
       "      <td>445.525</td>\n",
       "      <td>479.214</td>\n",
       "      <td>456.500</td>\n",
       "    </tr>\n",
       "    <tr>\n",
       "      <th>360</th>\n",
       "      <td>361</td>\n",
       "      <td>360.0</td>\n",
       "      <td>2017-03-10 03:02:00</td>\n",
       "      <td>248.807</td>\n",
       "      <td>248.379</td>\n",
       "      <td>248.939</td>\n",
       "      <td>295.096</td>\n",
       "      <td>306.4</td>\n",
       "      <td>250.269</td>\n",
       "      <td>251.576</td>\n",
       "      <td>444.584</td>\n",
       "      <td>422.540</td>\n",
       "      <td>448.154</td>\n",
       "      <td>464.353</td>\n",
       "      <td>447.508</td>\n",
       "      <td>461.574</td>\n",
       "      <td>440.993</td>\n",
       "    </tr>\n",
       "    <tr>\n",
       "      <th>540</th>\n",
       "      <td>541</td>\n",
       "      <td>540.0</td>\n",
       "      <td>2017-03-10 04:02:00</td>\n",
       "      <td>248.533</td>\n",
       "      <td>251.246</td>\n",
       "      <td>248.511</td>\n",
       "      <td>295.096</td>\n",
       "      <td>306.4</td>\n",
       "      <td>245.808</td>\n",
       "      <td>246.654</td>\n",
       "      <td>480.819</td>\n",
       "      <td>457.199</td>\n",
       "      <td>473.910</td>\n",
       "      <td>444.686</td>\n",
       "      <td>458.362</td>\n",
       "      <td>477.702</td>\n",
       "      <td>505.303</td>\n",
       "    </tr>\n",
       "    <tr>\n",
       "      <th>720</th>\n",
       "      <td>721</td>\n",
       "      <td>720.0</td>\n",
       "      <td>2017-03-10 05:02:00</td>\n",
       "      <td>249.598</td>\n",
       "      <td>253.114</td>\n",
       "      <td>251.807</td>\n",
       "      <td>295.096</td>\n",
       "      <td>306.4</td>\n",
       "      <td>249.719</td>\n",
       "      <td>248.632</td>\n",
       "      <td>526.739</td>\n",
       "      <td>568.244</td>\n",
       "      <td>545.166</td>\n",
       "      <td>525.550</td>\n",
       "      <td>547.031</td>\n",
       "      <td>558.323</td>\n",
       "      <td>553.193</td>\n",
       "    </tr>\n",
       "  </tbody>\n",
       "</table>\n",
       "</div>"
      ],
      "text/plain": [
       "     Unnamed: 0     X1                 date  fc01_air_flow  fc02_air_flow  \\\n",
       "0             1    0.0  2017-03-10 01:02:00        249.214        253.235   \n",
       "180         181  180.0  2017-03-10 02:02:00        249.510        251.675   \n",
       "360         361  360.0  2017-03-10 03:02:00        248.807        248.379   \n",
       "540         541  540.0  2017-03-10 04:02:00        248.533        251.246   \n",
       "720         721  720.0  2017-03-10 05:02:00        249.598        253.114   \n",
       "\n",
       "     fc03_air_flow  fc04_air_flow  fc05_air_flow  fc06_air_flow  \\\n",
       "0          250.576        295.096          306.4        250.225   \n",
       "180        251.027        295.096          306.4        250.609   \n",
       "360        248.939        295.096          306.4        250.269   \n",
       "540        248.511        295.096          306.4        245.808   \n",
       "720        251.807        295.096          306.4        249.719   \n",
       "\n",
       "     fc07_air_flow  fc01_level  fc02_level  fc03_level  fc04_level  \\\n",
       "0          250.884     457.396     432.962     424.954     443.558   \n",
       "180        250.280     445.935     456.922     432.418     449.432   \n",
       "360        251.576     444.584     422.540     448.154     464.353   \n",
       "540        246.654     480.819     457.199     473.910     444.686   \n",
       "720        248.632     526.739     568.244     545.166     525.550   \n",
       "\n",
       "     fc05_level  fc06_level  fc07_level  \n",
       "0       502.255     446.370     523.344  \n",
       "180     445.525     479.214     456.500  \n",
       "360     447.508     461.574     440.993  \n",
       "540     458.362     477.702     505.303  \n",
       "720     547.031     558.323     553.193  "
      ]
     },
     "execution_count": 8,
     "metadata": {},
     "output_type": "execute_result"
    }
   ],
   "source": [
    "#rename columns\n",
    "df_flotation.rename(columns={'Flotation Column 01 Air Flow':'fc01_air_flow','Flotation Column 02 Air Flow':'fc02_air_flow','Flotation Column 03 Air Flow':'fc03_air_flow','Flotation Column 04 Air Flow':'fc04_air_flow','Flotation Column 05 Air Flow':'fc05_air_flow','Flotation Column 06 Air Flow':'fc06_air_flow','Flotation Column 07 Air Flow':'fc07_air_flow','Flotation Column 01 Level':'fc01_level','Flotation Column 02 Level':'fc02_level','Flotation Column 03 Level':'fc03_level','Flotation Column 04 Level':'fc04_level','Flotation Column 05 Level':'fc05_level','Flotation Column 06 Level':'fc06_level','Flotation Column 07 Level':'fc07_level'}, inplace=True)\n",
    "df_flotation.head()"
   ]
  },
  {
   "cell_type": "code",
   "execution_count": 9,
   "metadata": {},
   "outputs": [
    {
     "data": {
      "text/plain": [
       "(3278, 17)"
      ]
     },
     "execution_count": 9,
     "metadata": {},
     "output_type": "execute_result"
    }
   ],
   "source": [
    "df_flotation.shape"
   ]
  },
  {
   "cell_type": "code",
   "execution_count": 10,
   "metadata": {},
   "outputs": [
    {
     "data": {
      "text/html": [
       "<div>\n",
       "<style scoped>\n",
       "    .dataframe tbody tr th:only-of-type {\n",
       "        vertical-align: middle;\n",
       "    }\n",
       "\n",
       "    .dataframe tbody tr th {\n",
       "        vertical-align: top;\n",
       "    }\n",
       "\n",
       "    .dataframe thead th {\n",
       "        text-align: right;\n",
       "    }\n",
       "</style>\n",
       "<table border=\"1\" class=\"dataframe\">\n",
       "  <thead>\n",
       "    <tr style=\"text-align: right;\">\n",
       "      <th></th>\n",
       "      <th>Unnamed: 0_x</th>\n",
       "      <th>X1_x</th>\n",
       "      <th>date</th>\n",
       "      <th>% Iron Feed</th>\n",
       "      <th>% Silica Feed</th>\n",
       "      <th>Starch Flow</th>\n",
       "      <th>Amina Flow</th>\n",
       "      <th>Ore Pulp Flow</th>\n",
       "      <th>Ore Pulp pH</th>\n",
       "      <th>Ore Pulp Density</th>\n",
       "      <th>...</th>\n",
       "      <th>fc05_air_flow</th>\n",
       "      <th>fc06_air_flow</th>\n",
       "      <th>fc07_air_flow</th>\n",
       "      <th>fc01_level</th>\n",
       "      <th>fc02_level</th>\n",
       "      <th>fc03_level</th>\n",
       "      <th>fc04_level</th>\n",
       "      <th>fc05_level</th>\n",
       "      <th>fc06_level</th>\n",
       "      <th>fc07_level</th>\n",
       "    </tr>\n",
       "  </thead>\n",
       "  <tbody>\n",
       "    <tr>\n",
       "      <th>0</th>\n",
       "      <td>1</td>\n",
       "      <td>0.0</td>\n",
       "      <td>2017-03-10 01:02:00</td>\n",
       "      <td>55.2</td>\n",
       "      <td>16.98</td>\n",
       "      <td>3019.53</td>\n",
       "      <td>557.434</td>\n",
       "      <td>395.713</td>\n",
       "      <td>10.06640</td>\n",
       "      <td>1.74000</td>\n",
       "      <td>...</td>\n",
       "      <td>306.4</td>\n",
       "      <td>250.225</td>\n",
       "      <td>250.884</td>\n",
       "      <td>457.396</td>\n",
       "      <td>432.962</td>\n",
       "      <td>424.954</td>\n",
       "      <td>443.558</td>\n",
       "      <td>502.255</td>\n",
       "      <td>446.370</td>\n",
       "      <td>523.344</td>\n",
       "    </tr>\n",
       "    <tr>\n",
       "      <th>1</th>\n",
       "      <td>181</td>\n",
       "      <td>180.0</td>\n",
       "      <td>2017-03-10 02:02:00</td>\n",
       "      <td>55.2</td>\n",
       "      <td>16.98</td>\n",
       "      <td>3205.08</td>\n",
       "      <td>535.553</td>\n",
       "      <td>398.086</td>\n",
       "      <td>10.15540</td>\n",
       "      <td>1.66291</td>\n",
       "      <td>...</td>\n",
       "      <td>306.4</td>\n",
       "      <td>250.609</td>\n",
       "      <td>250.280</td>\n",
       "      <td>445.935</td>\n",
       "      <td>456.922</td>\n",
       "      <td>432.418</td>\n",
       "      <td>449.432</td>\n",
       "      <td>445.525</td>\n",
       "      <td>479.214</td>\n",
       "      <td>456.500</td>\n",
       "    </tr>\n",
       "    <tr>\n",
       "      <th>2</th>\n",
       "      <td>361</td>\n",
       "      <td>360.0</td>\n",
       "      <td>2017-03-10 03:02:00</td>\n",
       "      <td>55.2</td>\n",
       "      <td>16.98</td>\n",
       "      <td>3391.21</td>\n",
       "      <td>584.900</td>\n",
       "      <td>401.016</td>\n",
       "      <td>10.08240</td>\n",
       "      <td>1.70771</td>\n",
       "      <td>...</td>\n",
       "      <td>306.4</td>\n",
       "      <td>250.269</td>\n",
       "      <td>251.576</td>\n",
       "      <td>444.584</td>\n",
       "      <td>422.540</td>\n",
       "      <td>448.154</td>\n",
       "      <td>464.353</td>\n",
       "      <td>447.508</td>\n",
       "      <td>461.574</td>\n",
       "      <td>440.993</td>\n",
       "    </tr>\n",
       "    <tr>\n",
       "      <th>3</th>\n",
       "      <td>541</td>\n",
       "      <td>540.0</td>\n",
       "      <td>2017-03-10 04:02:00</td>\n",
       "      <td>55.2</td>\n",
       "      <td>16.98</td>\n",
       "      <td>3120.31</td>\n",
       "      <td>577.850</td>\n",
       "      <td>407.344</td>\n",
       "      <td>9.94174</td>\n",
       "      <td>1.72059</td>\n",
       "      <td>...</td>\n",
       "      <td>306.4</td>\n",
       "      <td>245.808</td>\n",
       "      <td>246.654</td>\n",
       "      <td>480.819</td>\n",
       "      <td>457.199</td>\n",
       "      <td>473.910</td>\n",
       "      <td>444.686</td>\n",
       "      <td>458.362</td>\n",
       "      <td>477.702</td>\n",
       "      <td>505.303</td>\n",
       "    </tr>\n",
       "    <tr>\n",
       "      <th>4</th>\n",
       "      <td>721</td>\n",
       "      <td>720.0</td>\n",
       "      <td>2017-03-10 05:02:00</td>\n",
       "      <td>55.2</td>\n",
       "      <td>16.98</td>\n",
       "      <td>3267.58</td>\n",
       "      <td>608.459</td>\n",
       "      <td>394.658</td>\n",
       "      <td>9.84297</td>\n",
       "      <td>1.76000</td>\n",
       "      <td>...</td>\n",
       "      <td>306.4</td>\n",
       "      <td>249.719</td>\n",
       "      <td>248.632</td>\n",
       "      <td>526.739</td>\n",
       "      <td>568.244</td>\n",
       "      <td>545.166</td>\n",
       "      <td>525.550</td>\n",
       "      <td>547.031</td>\n",
       "      <td>558.323</td>\n",
       "      <td>553.193</td>\n",
       "    </tr>\n",
       "  </tbody>\n",
       "</table>\n",
       "<p>5 rows × 28 columns</p>\n",
       "</div>"
      ],
      "text/plain": [
       "   Unnamed: 0_x   X1_x                 date  % Iron Feed  % Silica Feed  \\\n",
       "0             1    0.0  2017-03-10 01:02:00         55.2          16.98   \n",
       "1           181  180.0  2017-03-10 02:02:00         55.2          16.98   \n",
       "2           361  360.0  2017-03-10 03:02:00         55.2          16.98   \n",
       "3           541  540.0  2017-03-10 04:02:00         55.2          16.98   \n",
       "4           721  720.0  2017-03-10 05:02:00         55.2          16.98   \n",
       "\n",
       "   Starch Flow  Amina Flow  Ore Pulp Flow  Ore Pulp pH  Ore Pulp Density  ...  \\\n",
       "0      3019.53     557.434        395.713     10.06640           1.74000  ...   \n",
       "1      3205.08     535.553        398.086     10.15540           1.66291  ...   \n",
       "2      3391.21     584.900        401.016     10.08240           1.70771  ...   \n",
       "3      3120.31     577.850        407.344      9.94174           1.72059  ...   \n",
       "4      3267.58     608.459        394.658      9.84297           1.76000  ...   \n",
       "\n",
       "   fc05_air_flow  fc06_air_flow  fc07_air_flow  fc01_level  fc02_level  \\\n",
       "0          306.4        250.225        250.884     457.396     432.962   \n",
       "1          306.4        250.609        250.280     445.935     456.922   \n",
       "2          306.4        250.269        251.576     444.584     422.540   \n",
       "3          306.4        245.808        246.654     480.819     457.199   \n",
       "4          306.4        249.719        248.632     526.739     568.244   \n",
       "\n",
       "   fc03_level  fc04_level  fc05_level  fc06_level  fc07_level  \n",
       "0     424.954     443.558     502.255     446.370     523.344  \n",
       "1     432.418     449.432     445.525     479.214     456.500  \n",
       "2     448.154     464.353     447.508     461.574     440.993  \n",
       "3     473.910     444.686     458.362     477.702     505.303  \n",
       "4     545.166     525.550     547.031     558.323     553.193  \n",
       "\n",
       "[5 rows x 28 columns]"
      ]
     },
     "execution_count": 10,
     "metadata": {},
     "output_type": "execute_result"
    }
   ],
   "source": [
    "#merge df_feed and df_flotation on date. Note* both dframes have the same length->doesn't matter what type of merge I will use.\n",
    "df=pd.merge(df_feed,df_flotation, on='date')\n",
    "df.head()"
   ]
  },
  {
   "cell_type": "markdown",
   "metadata": {
    "azdata_cell_guid": "6f5b8ee0-bab3-44bc-958a-67d1e4c0407f"
   },
   "source": [
    "## Unnecessary Data\n",
    "\n",
    "Look for the different types of unnecessary data in your dataset and address it as needed. Make sure to use code comments to illustrate your thought process."
   ]
  },
  {
   "cell_type": "code",
   "execution_count": 11,
   "metadata": {},
   "outputs": [
    {
     "data": {
      "text/plain": [
       "Index(['Unnamed: 0_x', 'X1_x', 'date', '% Iron Feed', '% Silica Feed',\n",
       "       'Starch Flow', 'Amina Flow', 'Ore Pulp Flow', 'Ore Pulp pH',\n",
       "       'Ore Pulp Density', '% Iron Concentrate', '% Silica Concentrate',\n",
       "       'Unnamed: 0_y', 'X1_y', 'fc01_air_flow', 'fc02_air_flow',\n",
       "       'fc03_air_flow', 'fc04_air_flow', 'fc05_air_flow', 'fc06_air_flow',\n",
       "       'fc07_air_flow', 'fc01_level', 'fc02_level', 'fc03_level', 'fc04_level',\n",
       "       'fc05_level', 'fc06_level', 'fc07_level'],\n",
       "      dtype='object')"
      ]
     },
     "execution_count": 11,
     "metadata": {},
     "output_type": "execute_result"
    }
   ],
   "source": [
    "df.columns"
   ]
  },
  {
   "cell_type": "code",
   "execution_count": 12,
   "metadata": {},
   "outputs": [
    {
     "data": {
      "text/html": [
       "<div>\n",
       "<style scoped>\n",
       "    .dataframe tbody tr th:only-of-type {\n",
       "        vertical-align: middle;\n",
       "    }\n",
       "\n",
       "    .dataframe tbody tr th {\n",
       "        vertical-align: top;\n",
       "    }\n",
       "\n",
       "    .dataframe thead th {\n",
       "        text-align: right;\n",
       "    }\n",
       "</style>\n",
       "<table border=\"1\" class=\"dataframe\">\n",
       "  <thead>\n",
       "    <tr style=\"text-align: right;\">\n",
       "      <th></th>\n",
       "      <th>date</th>\n",
       "      <th>% Iron Feed</th>\n",
       "      <th>% Silica Feed</th>\n",
       "      <th>Starch Flow</th>\n",
       "      <th>Amina Flow</th>\n",
       "      <th>Ore Pulp Flow</th>\n",
       "      <th>Ore Pulp pH</th>\n",
       "      <th>Ore Pulp Density</th>\n",
       "      <th>% Iron Concentrate</th>\n",
       "      <th>% Silica Concentrate</th>\n",
       "      <th>...</th>\n",
       "      <th>fc05_air_flow</th>\n",
       "      <th>fc06_air_flow</th>\n",
       "      <th>fc07_air_flow</th>\n",
       "      <th>fc01_level</th>\n",
       "      <th>fc02_level</th>\n",
       "      <th>fc03_level</th>\n",
       "      <th>fc04_level</th>\n",
       "      <th>fc05_level</th>\n",
       "      <th>fc06_level</th>\n",
       "      <th>fc07_level</th>\n",
       "    </tr>\n",
       "  </thead>\n",
       "  <tbody>\n",
       "    <tr>\n",
       "      <th>0</th>\n",
       "      <td>2017-03-10 01:02:00</td>\n",
       "      <td>55.2</td>\n",
       "      <td>16.98</td>\n",
       "      <td>3019.53</td>\n",
       "      <td>557.434</td>\n",
       "      <td>395.713</td>\n",
       "      <td>10.06640</td>\n",
       "      <td>1.74000</td>\n",
       "      <td>66.493242</td>\n",
       "      <td>1.31</td>\n",
       "      <td>...</td>\n",
       "      <td>306.4</td>\n",
       "      <td>250.225</td>\n",
       "      <td>250.884</td>\n",
       "      <td>457.396</td>\n",
       "      <td>432.962</td>\n",
       "      <td>424.954</td>\n",
       "      <td>443.558</td>\n",
       "      <td>502.255</td>\n",
       "      <td>446.370</td>\n",
       "      <td>523.344</td>\n",
       "    </tr>\n",
       "    <tr>\n",
       "      <th>1</th>\n",
       "      <td>2017-03-10 02:02:00</td>\n",
       "      <td>55.2</td>\n",
       "      <td>16.98</td>\n",
       "      <td>3205.08</td>\n",
       "      <td>535.553</td>\n",
       "      <td>398.086</td>\n",
       "      <td>10.15540</td>\n",
       "      <td>1.66291</td>\n",
       "      <td>68.395566</td>\n",
       "      <td>1.11</td>\n",
       "      <td>...</td>\n",
       "      <td>306.4</td>\n",
       "      <td>250.609</td>\n",
       "      <td>250.280</td>\n",
       "      <td>445.935</td>\n",
       "      <td>456.922</td>\n",
       "      <td>432.418</td>\n",
       "      <td>449.432</td>\n",
       "      <td>445.525</td>\n",
       "      <td>479.214</td>\n",
       "      <td>456.500</td>\n",
       "    </tr>\n",
       "    <tr>\n",
       "      <th>2</th>\n",
       "      <td>2017-03-10 03:02:00</td>\n",
       "      <td>55.2</td>\n",
       "      <td>16.98</td>\n",
       "      <td>3391.21</td>\n",
       "      <td>584.900</td>\n",
       "      <td>401.016</td>\n",
       "      <td>10.08240</td>\n",
       "      <td>1.70771</td>\n",
       "      <td>68.218450</td>\n",
       "      <td>1.27</td>\n",
       "      <td>...</td>\n",
       "      <td>306.4</td>\n",
       "      <td>250.269</td>\n",
       "      <td>251.576</td>\n",
       "      <td>444.584</td>\n",
       "      <td>422.540</td>\n",
       "      <td>448.154</td>\n",
       "      <td>464.353</td>\n",
       "      <td>447.508</td>\n",
       "      <td>461.574</td>\n",
       "      <td>440.993</td>\n",
       "    </tr>\n",
       "    <tr>\n",
       "      <th>3</th>\n",
       "      <td>2017-03-10 04:02:00</td>\n",
       "      <td>55.2</td>\n",
       "      <td>16.98</td>\n",
       "      <td>3120.31</td>\n",
       "      <td>577.850</td>\n",
       "      <td>407.344</td>\n",
       "      <td>9.94174</td>\n",
       "      <td>1.72059</td>\n",
       "      <td>64.230421</td>\n",
       "      <td>1.36</td>\n",
       "      <td>...</td>\n",
       "      <td>306.4</td>\n",
       "      <td>245.808</td>\n",
       "      <td>246.654</td>\n",
       "      <td>480.819</td>\n",
       "      <td>457.199</td>\n",
       "      <td>473.910</td>\n",
       "      <td>444.686</td>\n",
       "      <td>458.362</td>\n",
       "      <td>477.702</td>\n",
       "      <td>505.303</td>\n",
       "    </tr>\n",
       "    <tr>\n",
       "      <th>4</th>\n",
       "      <td>2017-03-10 05:02:00</td>\n",
       "      <td>55.2</td>\n",
       "      <td>16.98</td>\n",
       "      <td>3267.58</td>\n",
       "      <td>608.459</td>\n",
       "      <td>394.658</td>\n",
       "      <td>9.84297</td>\n",
       "      <td>1.76000</td>\n",
       "      <td>66.938356</td>\n",
       "      <td>1.34</td>\n",
       "      <td>...</td>\n",
       "      <td>306.4</td>\n",
       "      <td>249.719</td>\n",
       "      <td>248.632</td>\n",
       "      <td>526.739</td>\n",
       "      <td>568.244</td>\n",
       "      <td>545.166</td>\n",
       "      <td>525.550</td>\n",
       "      <td>547.031</td>\n",
       "      <td>558.323</td>\n",
       "      <td>553.193</td>\n",
       "    </tr>\n",
       "  </tbody>\n",
       "</table>\n",
       "<p>5 rows × 24 columns</p>\n",
       "</div>"
      ],
      "text/plain": [
       "                  date  % Iron Feed  % Silica Feed  Starch Flow  Amina Flow  \\\n",
       "0  2017-03-10 01:02:00         55.2          16.98      3019.53     557.434   \n",
       "1  2017-03-10 02:02:00         55.2          16.98      3205.08     535.553   \n",
       "2  2017-03-10 03:02:00         55.2          16.98      3391.21     584.900   \n",
       "3  2017-03-10 04:02:00         55.2          16.98      3120.31     577.850   \n",
       "4  2017-03-10 05:02:00         55.2          16.98      3267.58     608.459   \n",
       "\n",
       "   Ore Pulp Flow  Ore Pulp pH  Ore Pulp Density  % Iron Concentrate  \\\n",
       "0        395.713     10.06640           1.74000           66.493242   \n",
       "1        398.086     10.15540           1.66291           68.395566   \n",
       "2        401.016     10.08240           1.70771           68.218450   \n",
       "3        407.344      9.94174           1.72059           64.230421   \n",
       "4        394.658      9.84297           1.76000           66.938356   \n",
       "\n",
       "   % Silica Concentrate  ...  fc05_air_flow  fc06_air_flow  fc07_air_flow  \\\n",
       "0                  1.31  ...          306.4        250.225        250.884   \n",
       "1                  1.11  ...          306.4        250.609        250.280   \n",
       "2                  1.27  ...          306.4        250.269        251.576   \n",
       "3                  1.36  ...          306.4        245.808        246.654   \n",
       "4                  1.34  ...          306.4        249.719        248.632   \n",
       "\n",
       "   fc01_level  fc02_level  fc03_level  fc04_level  fc05_level  fc06_level  \\\n",
       "0     457.396     432.962     424.954     443.558     502.255     446.370   \n",
       "1     445.935     456.922     432.418     449.432     445.525     479.214   \n",
       "2     444.584     422.540     448.154     464.353     447.508     461.574   \n",
       "3     480.819     457.199     473.910     444.686     458.362     477.702   \n",
       "4     526.739     568.244     545.166     525.550     547.031     558.323   \n",
       "\n",
       "   fc07_level  \n",
       "0     523.344  \n",
       "1     456.500  \n",
       "2     440.993  \n",
       "3     505.303  \n",
       "4     553.193  \n",
       "\n",
       "[5 rows x 24 columns]"
      ]
     },
     "execution_count": 12,
     "metadata": {},
     "output_type": "execute_result"
    }
   ],
   "source": [
    "# Remove columns with unnecessary data\n",
    "df.drop(['Unnamed: 0_x','X1_x','Unnamed: 0_y','X1_y'],axis=1,inplace=True)\n",
    "df.head()"
   ]
  },
  {
   "cell_type": "code",
   "execution_count": 13,
   "metadata": {},
   "outputs": [
    {
     "data": {
      "text/html": [
       "<div>\n",
       "<style scoped>\n",
       "    .dataframe tbody tr th:only-of-type {\n",
       "        vertical-align: middle;\n",
       "    }\n",
       "\n",
       "    .dataframe tbody tr th {\n",
       "        vertical-align: top;\n",
       "    }\n",
       "\n",
       "    .dataframe thead th {\n",
       "        text-align: right;\n",
       "    }\n",
       "</style>\n",
       "<table border=\"1\" class=\"dataframe\">\n",
       "  <thead>\n",
       "    <tr style=\"text-align: right;\">\n",
       "      <th></th>\n",
       "      <th>fc01_air_flow</th>\n",
       "      <th>fc02_air_flow</th>\n",
       "      <th>fc03_air_flow</th>\n",
       "      <th>fc04_air_flow</th>\n",
       "      <th>fc05_air_flow</th>\n",
       "      <th>fc06_air_flow</th>\n",
       "      <th>fc07_air_flow</th>\n",
       "    </tr>\n",
       "  </thead>\n",
       "  <tbody>\n",
       "    <tr>\n",
       "      <th>min</th>\n",
       "      <td>175.844804</td>\n",
       "      <td>177.404395</td>\n",
       "      <td>176.959083</td>\n",
       "      <td>292.533000</td>\n",
       "      <td>286.971693</td>\n",
       "      <td>195.923334</td>\n",
       "      <td>196.776</td>\n",
       "    </tr>\n",
       "    <tr>\n",
       "      <th>max</th>\n",
       "      <td>367.937353</td>\n",
       "      <td>367.523667</td>\n",
       "      <td>310.009000</td>\n",
       "      <td>305.622053</td>\n",
       "      <td>306.400000</td>\n",
       "      <td>368.990000</td>\n",
       "      <td>366.001</td>\n",
       "    </tr>\n",
       "  </tbody>\n",
       "</table>\n",
       "</div>"
      ],
      "text/plain": [
       "     fc01_air_flow  fc02_air_flow  fc03_air_flow  fc04_air_flow  \\\n",
       "min     175.844804     177.404395     176.959083     292.533000   \n",
       "max     367.937353     367.523667     310.009000     305.622053   \n",
       "\n",
       "     fc05_air_flow  fc06_air_flow  fc07_air_flow  \n",
       "min     286.971693     195.923334        196.776  \n",
       "max     306.400000     368.990000        366.001  "
      ]
     },
     "execution_count": 13,
     "metadata": {},
     "output_type": "execute_result"
    }
   ],
   "source": [
    "# There are restrictions on the process (see above)\n",
    "# I will drop records outside of bounds\n",
    "#Airflow bound-(220,350)\n",
    "#Let's check what we have in those columns\n",
    "air_flow_columns_list=['fc01_air_flow','fc02_air_flow','fc03_air_flow','fc04_air_flow','fc05_air_flow','fc06_air_flow','fc07_air_flow']\n",
    "df[air_flow_columns_list].agg(['min','max'])   "
   ]
  },
  {
   "cell_type": "code",
   "execution_count": 14,
   "metadata": {},
   "outputs": [],
   "source": [
    "#Table above shows that we have data that out of bound -> let's remove it\n",
    "#Let's write function for removing out of bound as we have multiple of them to run\n",
    "\n",
    "def drop_out_bound(min,max,dataframe,columns_list):\n",
    "    for column in columns_list:\n",
    "        dataframe.drop(dataframe[(dataframe[column]<min) | (df[column]>max)].index,inplace=True)\n",
    "   "
   ]
  },
  {
   "cell_type": "code",
   "execution_count": 15,
   "metadata": {},
   "outputs": [],
   "source": [
    "drop_out_bound(220,350,df,air_flow_columns_list)\n"
   ]
  },
  {
   "cell_type": "code",
   "execution_count": 16,
   "metadata": {},
   "outputs": [
    {
     "data": {
      "text/html": [
       "<div>\n",
       "<style scoped>\n",
       "    .dataframe tbody tr th:only-of-type {\n",
       "        vertical-align: middle;\n",
       "    }\n",
       "\n",
       "    .dataframe tbody tr th {\n",
       "        vertical-align: top;\n",
       "    }\n",
       "\n",
       "    .dataframe thead th {\n",
       "        text-align: right;\n",
       "    }\n",
       "</style>\n",
       "<table border=\"1\" class=\"dataframe\">\n",
       "  <thead>\n",
       "    <tr style=\"text-align: right;\">\n",
       "      <th></th>\n",
       "      <th>fc01_air_flow</th>\n",
       "      <th>fc02_air_flow</th>\n",
       "      <th>fc03_air_flow</th>\n",
       "      <th>fc04_air_flow</th>\n",
       "      <th>fc05_air_flow</th>\n",
       "      <th>fc06_air_flow</th>\n",
       "      <th>fc07_air_flow</th>\n",
       "    </tr>\n",
       "  </thead>\n",
       "  <tbody>\n",
       "    <tr>\n",
       "      <th>min</th>\n",
       "      <td>221.265</td>\n",
       "      <td>222.144</td>\n",
       "      <td>223.682</td>\n",
       "      <td>292.533000</td>\n",
       "      <td>286.971693</td>\n",
       "      <td>241.180</td>\n",
       "      <td>242.329</td>\n",
       "    </tr>\n",
       "    <tr>\n",
       "      <th>max</th>\n",
       "      <td>317.766</td>\n",
       "      <td>341.588</td>\n",
       "      <td>310.009</td>\n",
       "      <td>305.622053</td>\n",
       "      <td>306.400000</td>\n",
       "      <td>349.682</td>\n",
       "      <td>349.971</td>\n",
       "    </tr>\n",
       "  </tbody>\n",
       "</table>\n",
       "</div>"
      ],
      "text/plain": [
       "     fc01_air_flow  fc02_air_flow  fc03_air_flow  fc04_air_flow  \\\n",
       "min        221.265        222.144        223.682     292.533000   \n",
       "max        317.766        341.588        310.009     305.622053   \n",
       "\n",
       "     fc05_air_flow  fc06_air_flow  fc07_air_flow  \n",
       "min     286.971693        241.180        242.329  \n",
       "max     306.400000        349.682        349.971  "
      ]
     },
     "execution_count": 16,
     "metadata": {},
     "output_type": "execute_result"
    }
   ],
   "source": [
    "df[air_flow_columns_list].agg(['min','max'])"
   ]
  },
  {
   "cell_type": "code",
   "execution_count": 17,
   "metadata": {},
   "outputs": [
    {
     "data": {
      "text/html": [
       "<div>\n",
       "<style scoped>\n",
       "    .dataframe tbody tr th:only-of-type {\n",
       "        vertical-align: middle;\n",
       "    }\n",
       "\n",
       "    .dataframe tbody tr th {\n",
       "        vertical-align: top;\n",
       "    }\n",
       "\n",
       "    .dataframe thead th {\n",
       "        text-align: right;\n",
       "    }\n",
       "</style>\n",
       "<table border=\"1\" class=\"dataframe\">\n",
       "  <thead>\n",
       "    <tr style=\"text-align: right;\">\n",
       "      <th></th>\n",
       "      <th>fc01_level</th>\n",
       "      <th>fc02_level</th>\n",
       "      <th>fc03_level</th>\n",
       "      <th>fc04_level</th>\n",
       "      <th>fc05_level</th>\n",
       "      <th>fc06_level</th>\n",
       "      <th>fc07_level</th>\n",
       "    </tr>\n",
       "  </thead>\n",
       "  <tbody>\n",
       "    <tr>\n",
       "      <th>min</th>\n",
       "      <td>153.406600</td>\n",
       "      <td>212.979000</td>\n",
       "      <td>128.180662</td>\n",
       "      <td>162.864078</td>\n",
       "      <td>167.165240</td>\n",
       "      <td>164.435000</td>\n",
       "      <td>176.293</td>\n",
       "    </tr>\n",
       "    <tr>\n",
       "      <th>max</th>\n",
       "      <td>861.941471</td>\n",
       "      <td>827.355294</td>\n",
       "      <td>885.560190</td>\n",
       "      <td>678.269000</td>\n",
       "      <td>674.076039</td>\n",
       "      <td>698.575029</td>\n",
       "      <td>658.188</td>\n",
       "    </tr>\n",
       "  </tbody>\n",
       "</table>\n",
       "</div>"
      ],
      "text/plain": [
       "     fc01_level  fc02_level  fc03_level  fc04_level  fc05_level  fc06_level  \\\n",
       "min  153.406600  212.979000  128.180662  162.864078  167.165240  164.435000   \n",
       "max  861.941471  827.355294  885.560190  678.269000  674.076039  698.575029   \n",
       "\n",
       "     fc07_level  \n",
       "min     176.293  \n",
       "max     658.188  "
      ]
     },
     "execution_count": 17,
     "metadata": {},
     "output_type": "execute_result"
    }
   ],
   "source": [
    "# Next bound is\n",
    "#Level Bound-(150,750)\n",
    "level_columns_list=['fc01_level','fc02_level','fc03_level','fc04_level','fc05_level','fc06_level','fc07_level']\n",
    "df[level_columns_list].agg(['min','max'])"
   ]
  },
  {
   "cell_type": "code",
   "execution_count": 18,
   "metadata": {},
   "outputs": [
    {
     "data": {
      "text/html": [
       "<div>\n",
       "<style scoped>\n",
       "    .dataframe tbody tr th:only-of-type {\n",
       "        vertical-align: middle;\n",
       "    }\n",
       "\n",
       "    .dataframe tbody tr th {\n",
       "        vertical-align: top;\n",
       "    }\n",
       "\n",
       "    .dataframe thead th {\n",
       "        text-align: right;\n",
       "    }\n",
       "</style>\n",
       "<table border=\"1\" class=\"dataframe\">\n",
       "  <thead>\n",
       "    <tr style=\"text-align: right;\">\n",
       "      <th></th>\n",
       "      <th>fc01_air_flow</th>\n",
       "      <th>fc02_air_flow</th>\n",
       "      <th>fc03_air_flow</th>\n",
       "      <th>fc04_air_flow</th>\n",
       "      <th>fc05_air_flow</th>\n",
       "      <th>fc06_air_flow</th>\n",
       "      <th>fc07_air_flow</th>\n",
       "    </tr>\n",
       "  </thead>\n",
       "  <tbody>\n",
       "    <tr>\n",
       "      <th>min</th>\n",
       "      <td>221.265</td>\n",
       "      <td>222.144</td>\n",
       "      <td>223.682</td>\n",
       "      <td>292.533000</td>\n",
       "      <td>286.971693</td>\n",
       "      <td>241.180</td>\n",
       "      <td>242.329</td>\n",
       "    </tr>\n",
       "    <tr>\n",
       "      <th>max</th>\n",
       "      <td>317.766</td>\n",
       "      <td>341.588</td>\n",
       "      <td>310.009</td>\n",
       "      <td>305.622053</td>\n",
       "      <td>306.400000</td>\n",
       "      <td>349.682</td>\n",
       "      <td>349.971</td>\n",
       "    </tr>\n",
       "  </tbody>\n",
       "</table>\n",
       "</div>"
      ],
      "text/plain": [
       "     fc01_air_flow  fc02_air_flow  fc03_air_flow  fc04_air_flow  \\\n",
       "min        221.265        222.144        223.682     292.533000   \n",
       "max        317.766        341.588        310.009     305.622053   \n",
       "\n",
       "     fc05_air_flow  fc06_air_flow  fc07_air_flow  \n",
       "min     286.971693        241.180        242.329  \n",
       "max     306.400000        349.682        349.971  "
      ]
     },
     "execution_count": 18,
     "metadata": {},
     "output_type": "execute_result"
    }
   ],
   "source": [
    "#Table above shows that we have data that out of bound -> let's remove it using function 'drop_out_bound'\n",
    "drop_out_bound(150,750,df,level_columns_list)\n",
    "df[air_flow_columns_list].agg(['min','max'])   "
   ]
  },
  {
   "cell_type": "code",
   "execution_count": 20,
   "metadata": {},
   "outputs": [
    {
     "data": {
      "text/plain": [
       "min    376.299000\n",
       "max    418.538322\n",
       "Name: Ore Pulp Flow, dtype: float64"
      ]
     },
     "execution_count": 20,
     "metadata": {},
     "output_type": "execute_result"
    }
   ],
   "source": [
    "# Next bound is\n",
    "# Pulp Flow bound-(370,415)\n",
    "df['Ore Pulp Flow'].agg(['min','max'])"
   ]
  },
  {
   "cell_type": "code",
   "execution_count": 21,
   "metadata": {},
   "outputs": [
    {
     "data": {
      "text/plain": [
       "min    376.299\n",
       "max    414.844\n",
       "Name: Ore Pulp Flow, dtype: float64"
      ]
     },
     "execution_count": 21,
     "metadata": {},
     "output_type": "execute_result"
    }
   ],
   "source": [
    "drop_out_bound(370,415,df,['Ore Pulp Flow'])\n",
    "df['Ore Pulp Flow'].agg(['min','max'])"
   ]
  },
  {
   "cell_type": "code",
   "execution_count": 22,
   "metadata": {},
   "outputs": [
    {
     "data": {
      "text/plain": [
       "min     8.753618\n",
       "max    10.807733\n",
       "Name: Ore Pulp pH, dtype: float64"
      ]
     },
     "execution_count": 22,
     "metadata": {},
     "output_type": "execute_result"
    }
   ],
   "source": [
    "# Next bound is\n",
    "#pH bound-(8.75,10.8)\n",
    "df['Ore Pulp pH'].agg(['min','max'])"
   ]
  },
  {
   "cell_type": "code",
   "execution_count": 23,
   "metadata": {},
   "outputs": [
    {
     "data": {
      "text/plain": [
       "min     8.753618\n",
       "max    10.792700\n",
       "Name: Ore Pulp pH, dtype: float64"
      ]
     },
     "execution_count": 23,
     "metadata": {},
     "output_type": "execute_result"
    }
   ],
   "source": [
    "drop_out_bound(8.75,10.8,df,['Ore Pulp pH'])\n",
    "df['Ore Pulp pH'].agg(['min','max'])"
   ]
  },
  {
   "cell_type": "code",
   "execution_count": 24,
   "metadata": {},
   "outputs": [
    {
     "data": {
      "text/plain": [
       "min    1.519838\n",
       "max    1.852859\n",
       "Name: Ore Pulp Density, dtype: float64"
      ]
     },
     "execution_count": 24,
     "metadata": {},
     "output_type": "execute_result"
    }
   ],
   "source": [
    "# Next bound is\n",
    "#Density Bound -(1.5,1.85)\n",
    "df['Ore Pulp Density'].agg(['min','max'])"
   ]
  },
  {
   "cell_type": "code",
   "execution_count": 25,
   "metadata": {},
   "outputs": [
    {
     "data": {
      "text/plain": [
       "min    1.519838\n",
       "max    1.822580\n",
       "Name: Ore Pulp Density, dtype: float64"
      ]
     },
     "execution_count": 25,
     "metadata": {},
     "output_type": "execute_result"
    }
   ],
   "source": [
    "drop_out_bound(1.5,1.85,df,['Ore Pulp Density'])\n",
    "df['Ore Pulp Density'].agg(['min','max'])"
   ]
  },
  {
   "cell_type": "code",
   "execution_count": 28,
   "metadata": {},
   "outputs": [
    {
     "data": {
      "text/plain": [
       "1761.69624035"
      ]
     },
     "execution_count": 28,
     "metadata": {},
     "output_type": "execute_result"
    }
   ],
   "source": [
    "#Minimum sum of airflow for all columns-1490\n",
    "df['sum_air_flow']=df.loc[:,air_flow_columns_list].sum(axis=1)\n",
    "df['sum_air_flow'].min()\n",
    "                             "
   ]
  },
  {
   "cell_type": "code",
   "execution_count": null,
   "metadata": {},
   "outputs": [],
   "source": [
    "#Looks like all sums of flowes are higher then min required in constrains -> don't need to do anything about it."
   ]
  },
  {
   "cell_type": "code",
   "execution_count": 30,
   "metadata": {},
   "outputs": [
    {
     "data": {
      "text/plain": [
       "352.65404625"
      ]
     },
     "execution_count": 30,
     "metadata": {},
     "output_type": "execute_result"
    }
   ],
   "source": [
    "#Min starch and Amina flow combined-1000\n",
    "df['sum_starch_amina_flow']=df.loc[:,['Starch Flow', 'Amina Flow']].sum(axis=1)\n",
    "df['sum_starch_amina_flow'].min()"
   ]
  },
  {
   "cell_type": "code",
   "execution_count": 31,
   "metadata": {},
   "outputs": [
    {
     "data": {
      "text/plain": [
       "6860.6963333333"
      ]
     },
     "execution_count": 31,
     "metadata": {},
     "output_type": "execute_result"
    }
   ],
   "source": [
    "df['sum_starch_amina_flow'].max()"
   ]
  },
  {
   "cell_type": "code",
   "execution_count": 32,
   "metadata": {},
   "outputs": [
    {
     "data": {
      "text/plain": [
       "1003.3900000000001"
      ]
     },
     "execution_count": 32,
     "metadata": {},
     "output_type": "execute_result"
    }
   ],
   "source": [
    "# From result above need to remove records where sum of starch and amina flows less then 1000\n",
    "#I will use function 'drop_out_bound'\n",
    "drop_out_bound(1000,7000,df,['sum_starch_amina_flow'])\n",
    "df['sum_starch_amina_flow'].min()"
   ]
  },
  {
   "cell_type": "markdown",
   "metadata": {
    "azdata_cell_guid": "e172475a-c4ee-414a-8367-9965355dbba6"
   },
   "source": [
    "## Missing Data\n",
    "\n",
    "Test your dataset for missing data and handle it as needed. Make notes in the form of code comments as to your thought process."
   ]
  },
  {
   "cell_type": "code",
   "execution_count": 34,
   "metadata": {},
   "outputs": [
    {
     "data": {
      "text/plain": [
       "(2418, 26)"
      ]
     },
     "execution_count": 34,
     "metadata": {},
     "output_type": "execute_result"
    }
   ],
   "source": [
    "df.shape"
   ]
  },
  {
   "cell_type": "code",
   "execution_count": 33,
   "metadata": {},
   "outputs": [
    {
     "name": "stdout",
     "output_type": "stream",
     "text": [
      "<class 'pandas.core.frame.DataFrame'>\n",
      "Int64Index: 2418 entries, 0 to 3277\n",
      "Data columns (total 26 columns):\n",
      " #   Column                 Non-Null Count  Dtype  \n",
      "---  ------                 --------------  -----  \n",
      " 0   date                   2418 non-null   object \n",
      " 1   % Iron Feed            2418 non-null   float64\n",
      " 2   % Silica Feed          2418 non-null   float64\n",
      " 3   Starch Flow            2418 non-null   float64\n",
      " 4   Amina Flow             2418 non-null   float64\n",
      " 5   Ore Pulp Flow          2418 non-null   float64\n",
      " 6   Ore Pulp pH            2418 non-null   float64\n",
      " 7   Ore Pulp Density       2418 non-null   float64\n",
      " 8   % Iron Concentrate     2418 non-null   float64\n",
      " 9   % Silica Concentrate   2418 non-null   float64\n",
      " 10  fc01_air_flow          2418 non-null   float64\n",
      " 11  fc02_air_flow          2418 non-null   float64\n",
      " 12  fc03_air_flow          2418 non-null   float64\n",
      " 13  fc04_air_flow          2418 non-null   float64\n",
      " 14  fc05_air_flow          2418 non-null   float64\n",
      " 15  fc06_air_flow          2418 non-null   float64\n",
      " 16  fc07_air_flow          2418 non-null   float64\n",
      " 17  fc01_level             2418 non-null   float64\n",
      " 18  fc02_level             2418 non-null   float64\n",
      " 19  fc03_level             2418 non-null   float64\n",
      " 20  fc04_level             2418 non-null   float64\n",
      " 21  fc05_level             2418 non-null   float64\n",
      " 22  fc06_level             2418 non-null   float64\n",
      " 23  fc07_level             2418 non-null   float64\n",
      " 24  sum_air_flow           2418 non-null   float64\n",
      " 25  sum_starch_amina_flow  2418 non-null   float64\n",
      "dtypes: float64(25), object(1)\n",
      "memory usage: 510.0+ KB\n"
     ]
    }
   ],
   "source": [
    "df.info()"
   ]
  },
  {
   "cell_type": "code",
   "execution_count": null,
   "metadata": {
    "azdata_cell_guid": "e1dc66ef-e471-4c27-92e7-ee878c106eba"
   },
   "outputs": [],
   "source": [
    "#There is no missing data"
   ]
  },
  {
   "cell_type": "markdown",
   "metadata": {},
   "source": [
    "'date', '% Iron Feed', '% Silica Feed',\n",
    "       'Starch Flow', 'Amina Flow', 'Ore Pulp Flow', 'Ore Pulp pH',\n",
    "       'Ore Pulp Density', '% Iron Concentrate', '% Silica Concentrate', 'fc01_air_flow', 'fc02_air_flow',\n",
    "       'fc03_air_flow', 'fc04_air_flow', 'fc05_air_flow', 'fc06_air_flow',\n",
    "       'fc07_air_flow', 'fc01_level', 'fc02_level', 'fc03_level', 'fc04_level',\n",
    "       'fc05_level', 'fc06_level', 'fc07_level'"
   ]
  },
  {
   "cell_type": "markdown",
   "metadata": {
    "azdata_cell_guid": "1233f543-e9a0-4f78-96f5-d7536554102e"
   },
   "source": [
    "## Irregular Data\n",
    "\n",
    "Detect outliers in your dataset and handle them as needed. Use code comments to make notes about your thought process."
   ]
  },
  {
   "cell_type": "code",
   "execution_count": 39,
   "metadata": {
    "azdata_cell_guid": "efed50ae-16f0-471d-98e2-632553a74c12",
    "scrolled": true
   },
   "outputs": [
    {
     "data": {
      "text/plain": [
       "<Axes: >"
      ]
     },
     "execution_count": 39,
     "metadata": {},
     "output_type": "execute_result"
    },
    {
     "data": {
      "image/png": "[encoded data removed]",
      "text/plain": [
       "<Figure size 640x480 with 1 Axes>"
      ]
     },
     "metadata": {},
     "output_type": "display_data"
    }
   ],
   "source": [
    "df['% Iron Feed'].hist()"
   ]
  },
  {
   "cell_type": "markdown",
   "metadata": {},
   "source": [
    "amount of Fe distribution is not normally distributed -> explore more if it affets the performance"
   ]
  },
  {
   "cell_type": "code",
   "execution_count": 40,
   "metadata": {},
   "outputs": [
    {
     "data": {
      "text/plain": [
       "<Axes: >"
      ]
     },
     "execution_count": 40,
     "metadata": {},
     "output_type": "execute_result"
    },
    {
     "data": {
      "image/png": "[encoded data removed]",
      "text/plain": [
       "<Figure size 640x480 with 1 Axes>"
      ]
     },
     "metadata": {},
     "output_type": "display_data"
    }
   ],
   "source": [
    "df['% Silica Feed'].hist()"
   ]
  },
  {
   "cell_type": "code",
   "execution_count": null,
   "metadata": {},
   "outputs": [],
   "source": [
    "the same story with silica"
   ]
  },
  {
   "cell_type": "code",
   "execution_count": 43,
   "metadata": {},
   "outputs": [
    {
     "data": {
      "text/plain": [
       "<Axes: >"
      ]
     },
     "execution_count": 43,
     "metadata": {},
     "output_type": "execute_result"
    },
    {
     "data": {
      "image/png": "[encoded data removed]",
      "text/plain": [
       "<Figure size 640x480 with 1 Axes>"
      ]
     },
     "metadata": {},
     "output_type": "display_data"
    }
   ],
   "source": [
    "df['% Silica Concentrate'].hist()"
   ]
  },
  {
   "cell_type": "code",
   "execution_count": null,
   "metadata": {},
   "outputs": [],
   "source": []
  },
  {
   "cell_type": "markdown",
   "metadata": {
    "azdata_cell_guid": "53e0cf94-c68a-4fa0-9849-9505a66bcce6"
   },
   "source": [
    "## Inconsistent Data\n",
    "\n",
    "Check for inconsistent data and address any that arises. As always, use code comments to illustrate your thought process."
   ]
  },
  {
   "cell_type": "code",
   "execution_count": null,
   "metadata": {
    "azdata_cell_guid": "e9de6624-812a-43f8-8e20-93b4a49b091f"
   },
   "outputs": [],
   "source": [
    "#inconsistent data was dealt with in \"unnecessary data section\""
   ]
  },
  {
   "cell_type": "markdown",
   "metadata": {
    "azdata_cell_guid": "dedc0bfe-17d0-40b2-914f-2ddb54f9ce0d"
   },
   "source": [
    "## Summarize Your Results\n",
    "\n",
    "Make note of your answers to the following questions.\n",
    "\n",
    "1. Did you find all four types of dirty data in your dataset? NO\n",
    "2. Did the process of cleaning your data give you new insights into your dataset? Gave me insight of data structure and constraints\n",
    "3. Is there anything you would like to make note of when it comes to manipulating the data and making visualizations? This is data that needs different approch for analysis than what we've learned so far."
   ]
  }
 ],
 "metadata": {
  "kernelspec": {
   "display_name": "Python 3 (ipykernel)",
   "language": "python",
   "name": "python3"
  },
  "language_info": {
   "codemirror_mode": {
    "name": "ipython",
    "version": 3
   },
   "file_extension": ".py",
   "mimetype": "text/x-python",
   "name": "python",
   "nbconvert_exporter": "python",
   "pygments_lexer": "ipython3",
   "version": "3.10.9"
  }
 },
 "nbformat": 4,
 "nbformat_minor": 2
}
